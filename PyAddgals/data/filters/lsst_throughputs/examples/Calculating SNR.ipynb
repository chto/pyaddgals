{
 "cells": [
  {
   "cell_type": "markdown",
   "metadata": {},
   "source": [
    "This ipython notebook demonstrates how to calculate photometric (optimal psf-weighted) SNR for sources observed with LSST. \n",
    "\n",
    "It uses the LSST [throughputs](https://github.com/lsst/throughputs) curves, together with the LSST [sims_photUtils](https://stash.lsstcorp.org/projects/SIM/repos/sims_photutils/browse) package, to calculate the SNR for any spectrum. \n",
    "\n",
    "With an eye toward turning this into a more generalized SNR calculator, an overview of the process (starting from the spectrum) is:\n",
    "* Set the desired magnitude (in a standardized throughput curve) for the source.\n",
    "* Generate the throughput curves in all filters, for the airmass desired.\n",
    "* Set the sky SED (for now we just use dark, zenith sky).\n",
    "* Calculate the SNR. \n",
    "\n",
    "---\n",
    "\n",
    "This notebook assumes that the `throughputs` and `sims_photUtils` packages have been installed and setup. We can then import the necessary packages:"
   ]
  },
  {
   "cell_type": "code",
   "execution_count": 1,
   "metadata": {
    "collapsed": true
   },
   "outputs": [],
   "source": [
    "from __future__ import print_function\n",
    "import os\n",
    "import numpy as np\n",
    "%matplotlib inline\n",
    "import matplotlib.pyplot as plt\n",
    "import pandas as pd\n",
    "from lsst.sims.photUtils import Bandpass\n",
    "from lsst.sims.photUtils import Sed\n",
    "from lsst.sims.photUtils import SignalToNoise\n",
    "from lsst.sims.photUtils import PhotometricParameters"
   ]
  },
  {
   "cell_type": "markdown",
   "metadata": {},
   "source": [
    "---\n",
    "<b>Read in the spectra.</b> \n",
    "\n",
    "I put together a few SEDs that cover a fairly wide range: elliptical and spiral galaxies, blue and red stars, and a quasar. We'll read them all into `Sed` objects, and set the quasar to have a redshift of 3.5. These SEDS are available as a [tar ball](http://www.astro.washington.edu/users/lynnej/sample_seds.tar.gz). \n",
    "Wherever you place this directory, set `sedDir` to point to that location. "
   ]
  },
  {
   "cell_type": "code",
   "execution_count": 2,
   "metadata": {},
   "outputs": [
    {
     "name": "stdout",
     "output_type": "stream",
     "text": [
      "['Ell2_template_norm.sed.dat', 'Sa_template_norm.sed.dat', 'Sdm_template_norm.sed0.dat', 'km10_4500.fits_g45', 'km10_5250.fits_g45', 'km10_6000.fits_g45', 'km10_6500.fits_g45', 'km10_7250.fits_g45', 'm3.0Full.dat', 'quasar.dat']\n"
     ]
    }
   ],
   "source": [
    "sedDir = '/Users/lynnej/seds/sample_seds'\n",
    "filenames = !ls $sedDir\n",
    "print(filenames)"
   ]
  },
  {
   "cell_type": "code",
   "execution_count": 3,
   "metadata": {
    "collapsed": true
   },
   "outputs": [],
   "source": [
    "# Now we'll read in each of those individual seds, into a Sed object. We'll also redshift the quasar.\n",
    "seds = {}\n",
    "z=3.5\n",
    "for s in filenames:\n",
    "    seds[s] = Sed()\n",
    "    seds[s].readSED_flambda(os.path.join(sedDir, s))\n",
    "if 'quasar.dat' in seds:\n",
    "    seds['quasar.dat'].redshiftSED(z)"
   ]
  },
  {
   "cell_type": "markdown",
   "metadata": {},
   "source": [
    "---\n",
    "<b>Read the standard throughput curves</b>.\n",
    "\n",
    "First, get the names of the directories containing the baseline throughput curves and a set of standard atmosphere curves at a range of airmass (also from the throughputs package). We'll also take a peek at the contents of these directories, in case you haven't seen them before."
   ]
  },
  {
   "cell_type": "code",
   "execution_count": 4,
   "metadata": {},
   "outputs": [
    {
     "name": "stdout",
     "output_type": "stream",
     "text": [
      "total 7160\r\n",
      "-rw-r--r--  1 lynnej  staff   52985 Aug  2 16:16 LSSTfilters.png\r\n",
      "-rw-r--r--  1 lynnej  staff    5720 May  3 12:24 README.md\r\n",
      "-rw-r--r--  1 lynnej  staff  179331 May  3 12:24 atmos_10.dat\r\n",
      "-rw-r--r--  1 lynnej  staff  173902 May  3 12:24 atmos_std.dat\r\n",
      "-rw-r--r--  1 lynnej  staff  170296 May  3 12:24 darksky.dat\r\n",
      "-rw-r--r--  1 lynnej  staff  149408 May  3 12:24 detector.dat\r\n",
      "-rw-r--r--  1 lynnej  staff  106649 May  3 12:24 filter_g.dat\r\n",
      "-rw-r--r--  1 lynnej  staff  104043 May  3 12:24 filter_i.dat\r\n",
      "-rw-r--r--  1 lynnej  staff  105365 May  3 12:24 filter_r.dat\r\n",
      "-rw-r--r--  1 lynnej  staff   98123 May  3 12:24 filter_u.dat\r\n",
      "-rw-r--r--  1 lynnej  staff  107815 May  3 12:24 filter_y.dat\r\n",
      "-rw-r--r--  1 lynnej  staff  101689 May  3 12:24 filter_z.dat\r\n",
      "-rw-r--r--  1 lynnej  staff  106630 May  3 12:24 hardware_g.dat\r\n",
      "-rw-r--r--  1 lynnej  staff  104019 May  3 12:24 hardware_i.dat\r\n",
      "-rw-r--r--  1 lynnej  staff  105283 May  3 12:24 hardware_r.dat\r\n",
      "-rw-r--r--  1 lynnej  staff   98561 May  3 12:24 hardware_u.dat\r\n",
      "-rw-r--r--  1 lynnej  staff  108788 May  3 12:24 hardware_y.dat\r\n",
      "-rw-r--r--  1 lynnej  staff  101687 May  3 12:24 hardware_z.dat\r\n",
      "-rw-r--r--  1 lynnej  staff  173748 May  3 12:24 lens1.dat\r\n",
      "-rw-r--r--  1 lynnej  staff  173790 May  3 12:24 lens2.dat\r\n",
      "-rw-r--r--  1 lynnej  staff  173718 May  3 12:24 lens3.dat\r\n",
      "-rw-r--r--  1 lynnej  staff  155763 May  3 12:24 m1.dat\r\n",
      "-rw-r--r--  1 lynnej  staff  161067 May  3 12:24 m2.dat\r\n",
      "-rw-r--r--  1 lynnej  staff  155763 May  3 12:24 m3.dat\r\n",
      "-rw-r--r--  1 lynnej  staff  106721 May  3 12:24 total_g.dat\r\n",
      "-rw-r--r--  1 lynnej  staff  104044 May  3 12:24 total_i.dat\r\n",
      "-rw-r--r--  1 lynnej  staff  105353 May  3 12:24 total_r.dat\r\n",
      "-rw-r--r--  1 lynnej  staff   98934 May  3 12:24 total_u.dat\r\n",
      "-rw-r--r--  1 lynnej  staff  108845 May  3 12:24 total_y.dat\r\n",
      "-rw-r--r--  1 lynnej  staff  101731 May  3 12:24 total_z.dat\r\n"
     ]
    }
   ],
   "source": [
    "throughputsDir = os.getenv('LSST_THROUGHPUTS_BASELINE')\n",
    "atmosDir = os.path.join(os.getenv('THROUGHPUTS_DIR'), 'atmos')\n",
    "!ls -l $throughputsDir\n",
    "#!ls -l $atmosDir\n",
    "filterlist = ('u', 'g', 'r', 'i', 'z', 'y')\n",
    "filtercolors = {'u':'b', 'g':'c', 'r':'g', 'i':'y', 'z':'r', 'y':'m'}"
   ]
  },
  {
   "cell_type": "markdown",
   "metadata": {},
   "source": [
    "Read in the set of throughput curves we'll use as our \"standard\". These are the 'standard' LSST total throughput curves and use an X=1.2 atmosphere (with aerosols) together with the standard hardware components (with time-average losses). "
   ]
  },
  {
   "cell_type": "code",
   "execution_count": 5,
   "metadata": {
    "collapsed": true
   },
   "outputs": [],
   "source": [
    "lsst_std = {}\n",
    "for f in filterlist:\n",
    "    lsst_std[f] = Bandpass()\n",
    "    lsst_std[f].readThroughput(os.path.join(throughputsDir, 'total_'+f+'.dat'))"
   ]
  },
  {
   "cell_type": "markdown",
   "metadata": {},
   "source": [
    "---\n",
    "<b>Set the desired magnitude.</b>\n",
    "\n",
    "Use these standard throughput curves to set the desired magnitude for each SED in the desired reference bandpass. This is the step where the user decides the magnitude of the source they want to use to calculate SNR."
   ]
  },
  {
   "cell_type": "code",
   "execution_count": 6,
   "metadata": {
    "collapsed": true
   },
   "outputs": [],
   "source": [
    "stdFilter = 'r'\n",
    "stdMag = 24.0\n",
    "for s in seds:\n",
    "    fluxNorm = seds[s].calcFluxNorm(stdMag, lsst_std[stdFilter])\n",
    "    seds[s].multiplyFluxNorm(fluxNorm)"
   ]
  },
  {
   "cell_type": "markdown",
   "metadata": {},
   "source": [
    "Pretty plot #1: plot the SEDs."
   ]
  },
  {
   "cell_type": "code",
   "execution_count": 7,
   "metadata": {},
   "outputs": [
    {
     "data": {
      "text/plain": [
       "<matplotlib.legend.Legend at 0x10fc04358>"
      ]
     },
     "execution_count": 7,
     "metadata": {},
     "output_type": "execute_result"
    },
    {
     "data": {
      "image/png": "[encoded data removed]",
      "text/plain": [
       "<matplotlib.figure.Figure at 0x11cf4e080>"
      ]
     },
     "metadata": {},
     "output_type": "display_data"
    }
   ],
   "source": [
    "for s in seds:\n",
    "    plt.plot(seds[s].wavelen, seds[s].flambda*seds[s].wavelen, label='%s' %(s))\n",
    "plt.xlabel('Wavelength (nm)')\n",
    "plt.ylabel('$\\lambda F_\\lambda$')\n",
    "plt.xlim(300, 1100)\n",
    "plt.legend(loc=(0.98, 0.2), fontsize='smaller', numpoints=1, fancybox=True)"
   ]
  },
  {
   "cell_type": "markdown",
   "metadata": {},
   "source": [
    "---\n",
    "<b>Read in the (non-standard) throughput components</b>\n",
    "\n",
    "Read in the various components that we will need, in order to generate the non-standard throughput curves at arbitrary airmass. \n",
    "First, the system hardware throughput components, as we will need the hardware alone to calculate SNR anyway. (see [note (1)](#hardware_sky) below for more information). "
   ]
  },
  {
   "cell_type": "code",
   "execution_count": 8,
   "metadata": {
    "collapsed": true
   },
   "outputs": [],
   "source": [
    "lsst_system = {}\n",
    "for f in filterlist:\n",
    "    lsst_system[f] = Bandpass()\n",
    "    lsst_system[f].readThroughputList(['detector.dat', 'lens1.dat', 'lens2.dat', 'lens3.dat', \n",
    "                                       'm1.dat', 'm2.dat', 'm3.dat', 'filter_'+f+'.dat'], \n",
    "                                        rootDir=throughputsDir)"
   ]
  },
  {
   "cell_type": "markdown",
   "metadata": {},
   "source": [
    "Then read in the atmosphere, so we can multiply it into the system hardware throughputs. This lets us generate the total throughput curves, using a wider variety of atmosphere curves at varying airmass. (The standard total throughput curves use X=1.2, for now we'll use X=1.0 here)."
   ]
  },
  {
   "cell_type": "code",
   "execution_count": 9,
   "metadata": {
    "collapsed": true
   },
   "outputs": [],
   "source": [
    "atmosphere = Bandpass()\n",
    "X = 1.0\n",
    "atmosphere.readThroughput(os.path.join(atmosDir, 'atmos_%d.dat' %(X*10)))"
   ]
  },
  {
   "cell_type": "markdown",
   "metadata": {},
   "source": [
    "Calculate the total (non-standard) throughput curves, including the atmosphere. "
   ]
  },
  {
   "cell_type": "code",
   "execution_count": 10,
   "metadata": {
    "collapsed": true
   },
   "outputs": [],
   "source": [
    "lsst_total = {}\n",
    "for f in filterlist:\n",
    "    wavelen, sb = lsst_system[f].multiplyThroughputs(atmosphere.wavelen, atmosphere.sb)\n",
    "    lsst_total[f] = Bandpass(wavelen=wavelen, sb=sb)"
   ]
  },
  {
   "cell_type": "markdown",
   "metadata": {},
   "source": [
    "Pretty plot #2, plot the throughput curves + atmosphere.  The dotted lines are the hardware-only throughputs, the solid lines are total system throughputs including atmosphere."
   ]
  },
  {
   "cell_type": "code",
   "execution_count": 11,
   "metadata": {},
   "outputs": [
    {
     "data": {
      "text/plain": [
       "<matplotlib.text.Text at 0x11c81ba58>"
      ]
     },
     "execution_count": 11,
     "metadata": {},
     "output_type": "execute_result"
    },
    {
     "data": {
      "image/png": "[encoded data removed]",
      "text/plain": [
       "<matplotlib.figure.Figure at 0x11cbba710>"
      ]
     },
     "metadata": {},
     "output_type": "display_data"
    }
   ],
   "source": [
    "for f in filterlist:\n",
    "    plt.plot(lsst_total[f].wavelen, lsst_total[f].sb,  linestyle='-', color=filtercolors[f], label='%s' %(f))\n",
    "    plt.plot(lsst_system[f].wavelen, lsst_system[f].sb, linestyle=':', color=filtercolors[f])\n",
    "plt.plot(atmosphere.wavelen, atmosphere.sb, 'k:', label='X =%.1f atmos' %(X))\n",
    "plt.legend(loc=(0.85, 0.5), fontsize='smaller', fancybox=True, numpoints=1)\n",
    "plt.xlabel('Wavelength (nm)')\n",
    "plt.ylabel('Sb (0-1)')\n",
    "plt.title('System throughput')"
   ]
  },
  {
   "cell_type": "markdown",
   "metadata": {},
   "source": [
    "---\n",
    "<b>Calculate SNR</b>"
   ]
  },
  {
   "cell_type": "markdown",
   "metadata": {},
   "source": [
    "The SNR of a source depends on the sky background, as well as properties of the telescope and camera. We can use the default values for LSST telescope and camera properties automatically. At the moment, the only sky spectrum we have easily available is the dark sky zenith spectrum, from the [$LSST_THROUGHPUTS_BASELINE/darksky.dat](https://github.com/lsst/throughputs/blob/master/baseline/darksky.dat) file. This spectra is calibrated to have the appropriate magnitudes in the LSST bandpasses under dark sky, zenith conditions."
   ]
  },
  {
   "cell_type": "code",
   "execution_count": 12,
   "metadata": {
    "collapsed": true
   },
   "outputs": [],
   "source": [
    "darksky = Sed()\n",
    "darksky.readSED_flambda(os.path.join(throughputsDir, 'darksky.dat'))"
   ]
  },
  {
   "cell_type": "markdown",
   "metadata": {},
   "source": [
    "Calculate the SNR, assuming optimal measurement over the PSF. This means we can choose the PSF as well.<br>\n",
    "`Sed` method `calcSNR_psf` accepts an instantiation of the `PhotometricParameters` class, which carries values for readnoise, platescale, gain, number of exposures, etc, set to defaults appropriate for general LSST purposes (and assuming 30 second visits, consisting of two 15 second exposures). "
   ]
  },
  {
   "cell_type": "code",
   "execution_count": 13,
   "metadata": {
    "collapsed": true
   },
   "outputs": [],
   "source": [
    "# Set up the photometric parameters for LSST\n",
    "photParams = PhotometricParameters(gain=1)\n",
    "# Set up the seeing. \"seeing\" traditional = FWHMgeom in our terms \n",
    "#  (i.e. the physical size of a double-gaussian or von Karman PSF)\n",
    "# But we use the equivalent FWHM of a single gaussian in the SNR calculation, so convert.\n",
    "seeing = 0.7\n",
    "FWHMeff = SignalToNoise.FWHMgeom2FWHMeff(seeing)"
   ]
  },
  {
   "cell_type": "code",
   "execution_count": 14,
   "metadata": {},
   "outputs": [
    {
     "name": "stdout",
     "output_type": "stream",
     "text": [
      "SNR in r band\n",
      "For Nexp 2.0 of time 15.0: \n",
      "Counts from source: 1387.43  Counts from sky: 796.16\n",
      "FWHMeff: 0.79('')  Neff pixels: 35.205(pix)\n",
      "Noise from sky: 28.22 Noise from instrument: 12.27\n",
      "Noise from source: 37.25\n",
      " Total Signal: 1387.43   Total Noise: 186.32    SNR: 7.45\n",
      "\n",
      "SNR in z band\n",
      "For Nexp 2.0 of time 15.0: \n",
      "Counts from source: 3617.92  Counts from sky: 1687.89\n",
      "FWHMeff: 0.79('')  Neff pixels: 35.205(pix)\n",
      "Noise from sky: 41.08 Noise from instrument: 12.27\n",
      "Noise from source: 60.15\n",
      " Total Signal: 3617.92   Total Noise: 261.42    SNR: 13.84\n"
     ]
    }
   ],
   "source": [
    "# We can investigate the SNR calculation a little closer for a single object, let's use the Mdwarf.\n",
    "s = 'm3.0Full.dat'\n",
    "f = 'r'\n",
    "print(\"SNR in %s band\" % f)\n",
    "_ = SignalToNoise.calcSNR_sed(seds[s], lsst_total[f], darksky, lsst_system[f], photParams, FWHMeff, verbose=True)\n",
    "print('')\n",
    "f = 'z'\n",
    "print(\"SNR in %s band\" % f)\n",
    "_ = SignalToNoise.calcSNR_sed(seds[s], lsst_total[f], darksky, lsst_system[f], photParams, FWHMeff, verbose=True)"
   ]
  },
  {
   "cell_type": "code",
   "execution_count": 15,
   "metadata": {},
   "outputs": [
    {
     "data": {
      "text/html": [
       "<div>\n",
       "<style>\n",
       "    .dataframe thead tr:only-child th {\n",
       "        text-align: right;\n",
       "    }\n",
       "\n",
       "    .dataframe thead th {\n",
       "        text-align: left;\n",
       "    }\n",
       "\n",
       "    .dataframe tbody tr th {\n",
       "        vertical-align: top;\n",
       "    }\n",
       "</style>\n",
       "<table border=\"1\" class=\"dataframe\">\n",
       "  <thead>\n",
       "    <tr style=\"text-align: right;\">\n",
       "      <th></th>\n",
       "      <th>u</th>\n",
       "      <th>g</th>\n",
       "      <th>r</th>\n",
       "      <th>i</th>\n",
       "      <th>z</th>\n",
       "      <th>y</th>\n",
       "    </tr>\n",
       "  </thead>\n",
       "  <tbody>\n",
       "    <tr>\n",
       "      <th>Ell2_template_norm.sed.dat</th>\n",
       "      <td>0.755</td>\n",
       "      <td>7.53</td>\n",
       "      <td>7.46</td>\n",
       "      <td>5.71</td>\n",
       "      <td>3.78</td>\n",
       "      <td>1.79</td>\n",
       "    </tr>\n",
       "    <tr>\n",
       "      <th>Sa_template_norm.sed.dat</th>\n",
       "      <td>0.45</td>\n",
       "      <td>6.1</td>\n",
       "      <td>7.46</td>\n",
       "      <td>6.5</td>\n",
       "      <td>4.88</td>\n",
       "      <td>2.53</td>\n",
       "    </tr>\n",
       "    <tr>\n",
       "      <th>Sdm_template_norm.sed0.dat</th>\n",
       "      <td>1.16</td>\n",
       "      <td>8.17</td>\n",
       "      <td>7.46</td>\n",
       "      <td>5.84</td>\n",
       "      <td>4.1</td>\n",
       "      <td>2.05</td>\n",
       "    </tr>\n",
       "    <tr>\n",
       "      <th>km10_4500.fits_g45</th>\n",
       "      <td>0.307</td>\n",
       "      <td>5.57</td>\n",
       "      <td>7.45</td>\n",
       "      <td>6.34</td>\n",
       "      <td>4.21</td>\n",
       "      <td>1.95</td>\n",
       "    </tr>\n",
       "    <tr>\n",
       "      <th>km10_5250.fits_g45</th>\n",
       "      <td>0.741</td>\n",
       "      <td>7.22</td>\n",
       "      <td>7.46</td>\n",
       "      <td>5.66</td>\n",
       "      <td>3.49</td>\n",
       "      <td>1.53</td>\n",
       "    </tr>\n",
       "    <tr>\n",
       "      <th>km10_6000.fits_g45</th>\n",
       "      <td>1.26</td>\n",
       "      <td>8.56</td>\n",
       "      <td>7.46</td>\n",
       "      <td>5.23</td>\n",
       "      <td>3.06</td>\n",
       "      <td>1.29</td>\n",
       "    </tr>\n",
       "    <tr>\n",
       "      <th>km10_6500.fits_g45</th>\n",
       "      <td>1.52</td>\n",
       "      <td>9.38</td>\n",
       "      <td>7.46</td>\n",
       "      <td>4.99</td>\n",
       "      <td>2.84</td>\n",
       "      <td>1.17</td>\n",
       "    </tr>\n",
       "    <tr>\n",
       "      <th>km10_7250.fits_g45</th>\n",
       "      <td>1.76</td>\n",
       "      <td>10.5</td>\n",
       "      <td>7.46</td>\n",
       "      <td>4.66</td>\n",
       "      <td>2.53</td>\n",
       "      <td>1.03</td>\n",
       "    </tr>\n",
       "    <tr>\n",
       "      <th>m3.0Full.dat</th>\n",
       "      <td>0.15</td>\n",
       "      <td>3.53</td>\n",
       "      <td>7.45</td>\n",
       "      <td>14.4</td>\n",
       "      <td>13.8</td>\n",
       "      <td>7.1</td>\n",
       "    </tr>\n",
       "    <tr>\n",
       "      <th>quasar.dat</th>\n",
       "      <td>0.4</td>\n",
       "      <td>6.28</td>\n",
       "      <td>7.46</td>\n",
       "      <td>5.38</td>\n",
       "      <td>3.32</td>\n",
       "      <td>1.34</td>\n",
       "    </tr>\n",
       "  </tbody>\n",
       "</table>\n",
       "</div>"
      ],
      "text/plain": [
       "                                u     g     r     i     z     y\n",
       "Ell2_template_norm.sed.dat  0.755  7.53  7.46  5.71  3.78  1.79\n",
       "Sa_template_norm.sed.dat     0.45   6.1  7.46   6.5  4.88  2.53\n",
       "Sdm_template_norm.sed0.dat   1.16  8.17  7.46  5.84   4.1  2.05\n",
       "km10_4500.fits_g45          0.307  5.57  7.45  6.34  4.21  1.95\n",
       "km10_5250.fits_g45          0.741  7.22  7.46  5.66  3.49  1.53\n",
       "km10_6000.fits_g45           1.26  8.56  7.46  5.23  3.06  1.29\n",
       "km10_6500.fits_g45           1.52  9.38  7.46  4.99  2.84  1.17\n",
       "km10_7250.fits_g45           1.76  10.5  7.46  4.66  2.53  1.03\n",
       "m3.0Full.dat                 0.15  3.53  7.45  14.4  13.8   7.1\n",
       "quasar.dat                    0.4  6.28  7.46  5.38  3.32  1.34"
      ]
     },
     "metadata": {},
     "output_type": "display_data"
    }
   ],
   "source": [
    "# Calculate SNR for all seds in all filters.\n",
    "snr = pd.DataFrame(index=seds, columns=filterlist)\n",
    "for i, s in enumerate(seds):\n",
    "    for f in filterlist:\n",
    "        snr.iloc[i][f] = SignalToNoise.calcSNR_sed(seds[s], lsst_total[f], darksky, lsst_system[f], \n",
    "                                                   photParams, FWHMeff=FWHMeff, verbose=False)\n",
    "pd.set_option('precision', 3)\n",
    "display(snr)"
   ]
  },
  {
   "cell_type": "markdown",
   "metadata": {},
   "source": [
    "Note that the SNR in the r band is the same for all of these objects. This makes sense, as we normalized them all to have the same r band standard magnitudes, and the X=1.0 atmosphere is not hugely different from the X=1.2 standard throughput curves.  However, their SNR in other bandpasses can be quite different depending on the SED of the source. "
   ]
  },
  {
   "cell_type": "markdown",
   "metadata": {},
   "source": [
    "---\n",
    "And it's a bit of a hack, but we could make the same calculation for different sky background values, by scaling the dark sky SED to have different expected magnitudes (i.e. adjust the darksky SED to create different sky brightness). With the upcoming sky brightness code (in progress [here](http://github.com/lsst/sims_skybrightness)), we could use the actual sky SED for any conditions.\n",
    "\n",
    "<a name='hardware_sky'>(1)</a> Notice that I use lsst_system throughputs here, not lsst_total. This is because the sky magnitudes must be calculated using the *system* only, not including the atmosphere. The sky brightness is generated at various points throughout the atmosphere, so should not be propagated through the entire atmosphere when calculating the transmission to the focal plane (unlike sources above the atmosphere). Without doing proper radiative transfer to determine the atmosphere and sky brightness to use, the next best thing is to just use the system minus the atmosphere, and atmosphere-corrected/telescope pupil skybrightness measurements (which are what are usually reported). This is also why we needed to pass the system only throughput curves to calcSNR_sed. "
   ]
  },
  {
   "cell_type": "code",
   "execution_count": 16,
   "metadata": {},
   "outputs": [
    {
     "name": "stdout",
     "output_type": "stream",
     "text": [
      "u 22.9542132039\n",
      "g 22.240907157\n",
      "r 21.1978486745\n",
      "i 20.4734429172\n",
      "z 19.5991775087\n",
      "y 18.6323375588\n"
     ]
    }
   ],
   "source": [
    "for f in filterlist:\n",
    "    print(f, darksky.calcMag(lsst_system[f]))"
   ]
  },
  {
   "cell_type": "code",
   "execution_count": 17,
   "metadata": {},
   "outputs": [
    {
     "name": "stdout",
     "output_type": "stream",
     "text": [
      "u 22.2563645294\n",
      "g 21.5430584824\n",
      "r 20.5\n",
      "i 19.7755942427\n",
      "z 18.9013288342\n",
      "y 17.9344888842\n"
     ]
    }
   ],
   "source": [
    "newSkyMag = 20.5\n",
    "newSkyFilter = 'r'\n",
    "fluxNorm = darksky.calcFluxNorm(newSkyMag, lsst_system[newSkyFilter])\n",
    "darksky.multiplyFluxNorm(fluxNorm)\n",
    "for f in filterlist:\n",
    "    print(f, darksky.calcMag(lsst_system[f]))"
   ]
  },
  {
   "cell_type": "code",
   "execution_count": 18,
   "metadata": {},
   "outputs": [
    {
     "data": {
      "text/html": [
       "<div>\n",
       "<style>\n",
       "    .dataframe thead tr:only-child th {\n",
       "        text-align: right;\n",
       "    }\n",
       "\n",
       "    .dataframe thead th {\n",
       "        text-align: left;\n",
       "    }\n",
       "\n",
       "    .dataframe tbody tr th {\n",
       "        vertical-align: top;\n",
       "    }\n",
       "</style>\n",
       "<table border=\"1\" class=\"dataframe\">\n",
       "  <thead>\n",
       "    <tr style=\"text-align: right;\">\n",
       "      <th></th>\n",
       "      <th>u</th>\n",
       "      <th>g</th>\n",
       "      <th>r</th>\n",
       "      <th>i</th>\n",
       "      <th>z</th>\n",
       "      <th>y</th>\n",
       "    </tr>\n",
       "  </thead>\n",
       "  <tbody>\n",
       "    <tr>\n",
       "      <th>Ell2_template_norm.sed.dat</th>\n",
       "      <td>0.683</td>\n",
       "      <td>5.93</td>\n",
       "      <td>5.67</td>\n",
       "      <td>4.29</td>\n",
       "      <td>2.8</td>\n",
       "      <td>1.32</td>\n",
       "    </tr>\n",
       "    <tr>\n",
       "      <th>Sa_template_norm.sed.dat</th>\n",
       "      <td>0.406</td>\n",
       "      <td>4.79</td>\n",
       "      <td>5.67</td>\n",
       "      <td>4.89</td>\n",
       "      <td>3.63</td>\n",
       "      <td>1.87</td>\n",
       "    </tr>\n",
       "    <tr>\n",
       "      <th>Sdm_template_norm.sed0.dat</th>\n",
       "      <td>1.05</td>\n",
       "      <td>6.43</td>\n",
       "      <td>5.67</td>\n",
       "      <td>4.39</td>\n",
       "      <td>3.04</td>\n",
       "      <td>1.52</td>\n",
       "    </tr>\n",
       "    <tr>\n",
       "      <th>km10_4500.fits_g45</th>\n",
       "      <td>0.277</td>\n",
       "      <td>4.37</td>\n",
       "      <td>5.67</td>\n",
       "      <td>4.77</td>\n",
       "      <td>3.12</td>\n",
       "      <td>1.44</td>\n",
       "    </tr>\n",
       "    <tr>\n",
       "      <th>km10_5250.fits_g45</th>\n",
       "      <td>0.67</td>\n",
       "      <td>5.68</td>\n",
       "      <td>5.67</td>\n",
       "      <td>4.25</td>\n",
       "      <td>2.59</td>\n",
       "      <td>1.13</td>\n",
       "    </tr>\n",
       "    <tr>\n",
       "      <th>km10_6000.fits_g45</th>\n",
       "      <td>1.14</td>\n",
       "      <td>6.74</td>\n",
       "      <td>5.67</td>\n",
       "      <td>3.93</td>\n",
       "      <td>2.27</td>\n",
       "      <td>0.952</td>\n",
       "    </tr>\n",
       "    <tr>\n",
       "      <th>km10_6500.fits_g45</th>\n",
       "      <td>1.37</td>\n",
       "      <td>7.4</td>\n",
       "      <td>5.67</td>\n",
       "      <td>3.75</td>\n",
       "      <td>2.1</td>\n",
       "      <td>0.865</td>\n",
       "    </tr>\n",
       "    <tr>\n",
       "      <th>km10_7250.fits_g45</th>\n",
       "      <td>1.59</td>\n",
       "      <td>8.33</td>\n",
       "      <td>5.68</td>\n",
       "      <td>3.5</td>\n",
       "      <td>1.88</td>\n",
       "      <td>0.761</td>\n",
       "    </tr>\n",
       "    <tr>\n",
       "      <th>m3.0Full.dat</th>\n",
       "      <td>0.135</td>\n",
       "      <td>2.77</td>\n",
       "      <td>5.66</td>\n",
       "      <td>10.9</td>\n",
       "      <td>10.4</td>\n",
       "      <td>5.26</td>\n",
       "    </tr>\n",
       "    <tr>\n",
       "      <th>quasar.dat</th>\n",
       "      <td>0.362</td>\n",
       "      <td>4.94</td>\n",
       "      <td>5.68</td>\n",
       "      <td>4.04</td>\n",
       "      <td>2.46</td>\n",
       "      <td>0.986</td>\n",
       "    </tr>\n",
       "  </tbody>\n",
       "</table>\n",
       "</div>"
      ],
      "text/plain": [
       "                                u     g     r     i     z      y\n",
       "Ell2_template_norm.sed.dat  0.683  5.93  5.67  4.29   2.8   1.32\n",
       "Sa_template_norm.sed.dat    0.406  4.79  5.67  4.89  3.63   1.87\n",
       "Sdm_template_norm.sed0.dat   1.05  6.43  5.67  4.39  3.04   1.52\n",
       "km10_4500.fits_g45          0.277  4.37  5.67  4.77  3.12   1.44\n",
       "km10_5250.fits_g45           0.67  5.68  5.67  4.25  2.59   1.13\n",
       "km10_6000.fits_g45           1.14  6.74  5.67  3.93  2.27  0.952\n",
       "km10_6500.fits_g45           1.37   7.4  5.67  3.75   2.1  0.865\n",
       "km10_7250.fits_g45           1.59  8.33  5.68   3.5  1.88  0.761\n",
       "m3.0Full.dat                0.135  2.77  5.66  10.9  10.4   5.26\n",
       "quasar.dat                  0.362  4.94  5.68  4.04  2.46  0.986"
      ]
     },
     "metadata": {},
     "output_type": "display_data"
    }
   ],
   "source": [
    "# Calculate SNR with varied sky brightness\n",
    "photParams = PhotometricParameters()\n",
    "seeing = 0.7\n",
    "FWHMeff = SignalToNoise.FWHMgeom2FWHMeff(seeing)\n",
    "snr = pd.DataFrame(index=seds, columns=filterlist)\n",
    "for i, s in enumerate(seds):\n",
    "    for f in filterlist:\n",
    "        snr.iloc[i][f] = SignalToNoise.calcSNR_sed(seds[s], lsst_total[f], darksky, lsst_system[f], \n",
    "                                              photParams, FWHMeff=FWHMeff, verbose=False)\n",
    "display(snr)"
   ]
  },
  {
   "cell_type": "code",
   "execution_count": 19,
   "metadata": {},
   "outputs": [
    {
     "data": {
      "text/html": [
       "<div>\n",
       "<style>\n",
       "    .dataframe thead tr:only-child th {\n",
       "        text-align: right;\n",
       "    }\n",
       "\n",
       "    .dataframe thead th {\n",
       "        text-align: left;\n",
       "    }\n",
       "\n",
       "    .dataframe tbody tr th {\n",
       "        vertical-align: top;\n",
       "    }\n",
       "</style>\n",
       "<table border=\"1\" class=\"dataframe\">\n",
       "  <thead>\n",
       "    <tr style=\"text-align: right;\">\n",
       "      <th></th>\n",
       "      <th>u</th>\n",
       "      <th>g</th>\n",
       "      <th>r</th>\n",
       "      <th>i</th>\n",
       "      <th>z</th>\n",
       "      <th>y</th>\n",
       "    </tr>\n",
       "  </thead>\n",
       "  <tbody>\n",
       "    <tr>\n",
       "      <th>Ell2_template_norm.sed.dat</th>\n",
       "      <td>0.386</td>\n",
       "      <td>3.38</td>\n",
       "      <td>3.23</td>\n",
       "      <td>2.44</td>\n",
       "      <td>1.59</td>\n",
       "      <td>0.748</td>\n",
       "    </tr>\n",
       "    <tr>\n",
       "      <th>Sa_template_norm.sed.dat</th>\n",
       "      <td>0.23</td>\n",
       "      <td>2.73</td>\n",
       "      <td>3.23</td>\n",
       "      <td>2.78</td>\n",
       "      <td>2.06</td>\n",
       "      <td>1.06</td>\n",
       "    </tr>\n",
       "    <tr>\n",
       "      <th>Sdm_template_norm.sed0.dat</th>\n",
       "      <td>0.593</td>\n",
       "      <td>3.68</td>\n",
       "      <td>3.23</td>\n",
       "      <td>2.49</td>\n",
       "      <td>1.72</td>\n",
       "      <td>0.857</td>\n",
       "    </tr>\n",
       "    <tr>\n",
       "      <th>km10_4500.fits_g45</th>\n",
       "      <td>0.157</td>\n",
       "      <td>2.49</td>\n",
       "      <td>3.23</td>\n",
       "      <td>2.71</td>\n",
       "      <td>1.77</td>\n",
       "      <td>0.814</td>\n",
       "    </tr>\n",
       "    <tr>\n",
       "      <th>km10_5250.fits_g45</th>\n",
       "      <td>0.379</td>\n",
       "      <td>3.24</td>\n",
       "      <td>3.23</td>\n",
       "      <td>2.41</td>\n",
       "      <td>1.46</td>\n",
       "      <td>0.638</td>\n",
       "    </tr>\n",
       "    <tr>\n",
       "      <th>km10_6000.fits_g45</th>\n",
       "      <td>0.645</td>\n",
       "      <td>3.86</td>\n",
       "      <td>3.23</td>\n",
       "      <td>2.23</td>\n",
       "      <td>1.29</td>\n",
       "      <td>0.538</td>\n",
       "    </tr>\n",
       "    <tr>\n",
       "      <th>km10_6500.fits_g45</th>\n",
       "      <td>0.779</td>\n",
       "      <td>4.23</td>\n",
       "      <td>3.23</td>\n",
       "      <td>2.12</td>\n",
       "      <td>1.19</td>\n",
       "      <td>0.489</td>\n",
       "    </tr>\n",
       "    <tr>\n",
       "      <th>km10_7250.fits_g45</th>\n",
       "      <td>0.903</td>\n",
       "      <td>4.78</td>\n",
       "      <td>3.23</td>\n",
       "      <td>1.98</td>\n",
       "      <td>1.06</td>\n",
       "      <td>0.43</td>\n",
       "    </tr>\n",
       "    <tr>\n",
       "      <th>m3.0Full.dat</th>\n",
       "      <td>0.0764</td>\n",
       "      <td>1.57</td>\n",
       "      <td>3.22</td>\n",
       "      <td>6.23</td>\n",
       "      <td>5.91</td>\n",
       "      <td>2.98</td>\n",
       "    </tr>\n",
       "    <tr>\n",
       "      <th>quasar.dat</th>\n",
       "      <td>0.205</td>\n",
       "      <td>2.81</td>\n",
       "      <td>3.23</td>\n",
       "      <td>2.29</td>\n",
       "      <td>1.39</td>\n",
       "      <td>0.557</td>\n",
       "    </tr>\n",
       "  </tbody>\n",
       "</table>\n",
       "</div>"
      ],
      "text/plain": [
       "                                 u     g     r     i     z      y\n",
       "Ell2_template_norm.sed.dat   0.386  3.38  3.23  2.44  1.59  0.748\n",
       "Sa_template_norm.sed.dat      0.23  2.73  3.23  2.78  2.06   1.06\n",
       "Sdm_template_norm.sed0.dat   0.593  3.68  3.23  2.49  1.72  0.857\n",
       "km10_4500.fits_g45           0.157  2.49  3.23  2.71  1.77  0.814\n",
       "km10_5250.fits_g45           0.379  3.24  3.23  2.41  1.46  0.638\n",
       "km10_6000.fits_g45           0.645  3.86  3.23  2.23  1.29  0.538\n",
       "km10_6500.fits_g45           0.779  4.23  3.23  2.12  1.19  0.489\n",
       "km10_7250.fits_g45           0.903  4.78  3.23  1.98  1.06   0.43\n",
       "m3.0Full.dat                0.0764  1.57  3.22  6.23  5.91   2.98\n",
       "quasar.dat                   0.205  2.81  3.23  2.29  1.39  0.557"
      ]
     },
     "metadata": {},
     "output_type": "display_data"
    }
   ],
   "source": [
    "# Vary the seeing (with this new sky background)\n",
    "photParams = PhotometricParameters()\n",
    "seeing = 1.2\n",
    "FWHMeff = SignalToNoise.FWHMgeom2FWHMeff(seeing)\n",
    "for i, s in enumerate(seds):\n",
    "    for f in filterlist:\n",
    "        snr.iloc[i][f] = SignalToNoise.calcSNR_sed(seds[s], lsst_total[f], darksky, lsst_system[f], \n",
    "                                              photParams, FWHMeff=FWHMeff, verbose=False)\n",
    "display(snr)"
   ]
  },
  {
   "cell_type": "code",
   "execution_count": 20,
   "metadata": {},
   "outputs": [
    {
     "name": "stdout",
     "output_type": "stream",
     "text": [
      "8.5\n"
     ]
    },
    {
     "data": {
      "text/html": [
       "<div>\n",
       "<style>\n",
       "    .dataframe thead tr:only-child th {\n",
       "        text-align: right;\n",
       "    }\n",
       "\n",
       "    .dataframe thead th {\n",
       "        text-align: left;\n",
       "    }\n",
       "\n",
       "    .dataframe tbody tr th {\n",
       "        vertical-align: top;\n",
       "    }\n",
       "</style>\n",
       "<table border=\"1\" class=\"dataframe\">\n",
       "  <thead>\n",
       "    <tr style=\"text-align: right;\">\n",
       "      <th></th>\n",
       "      <th>u</th>\n",
       "      <th>g</th>\n",
       "      <th>r</th>\n",
       "      <th>i</th>\n",
       "      <th>z</th>\n",
       "      <th>y</th>\n",
       "    </tr>\n",
       "  </thead>\n",
       "  <tbody>\n",
       "    <tr>\n",
       "      <th>Ell2_template_norm.sed.dat</th>\n",
       "      <td>0.233</td>\n",
       "      <td>2.78</td>\n",
       "      <td>2.88</td>\n",
       "      <td>2.23</td>\n",
       "      <td>1.49</td>\n",
       "      <td>0.713</td>\n",
       "    </tr>\n",
       "    <tr>\n",
       "      <th>Sa_template_norm.sed.dat</th>\n",
       "      <td>0.138</td>\n",
       "      <td>2.24</td>\n",
       "      <td>2.88</td>\n",
       "      <td>2.54</td>\n",
       "      <td>1.94</td>\n",
       "      <td>1.01</td>\n",
       "    </tr>\n",
       "    <tr>\n",
       "      <th>Sdm_template_norm.sed0.dat</th>\n",
       "      <td>0.357</td>\n",
       "      <td>3.02</td>\n",
       "      <td>2.88</td>\n",
       "      <td>2.28</td>\n",
       "      <td>1.62</td>\n",
       "      <td>0.816</td>\n",
       "    </tr>\n",
       "    <tr>\n",
       "      <th>km10_4500.fits_g45</th>\n",
       "      <td>0.0943</td>\n",
       "      <td>2.04</td>\n",
       "      <td>2.88</td>\n",
       "      <td>2.48</td>\n",
       "      <td>1.66</td>\n",
       "      <td>0.775</td>\n",
       "    </tr>\n",
       "    <tr>\n",
       "      <th>km10_5250.fits_g45</th>\n",
       "      <td>0.228</td>\n",
       "      <td>2.66</td>\n",
       "      <td>2.88</td>\n",
       "      <td>2.21</td>\n",
       "      <td>1.38</td>\n",
       "      <td>0.607</td>\n",
       "    </tr>\n",
       "    <tr>\n",
       "      <th>km10_6000.fits_g45</th>\n",
       "      <td>0.388</td>\n",
       "      <td>3.17</td>\n",
       "      <td>2.88</td>\n",
       "      <td>2.04</td>\n",
       "      <td>1.21</td>\n",
       "      <td>0.512</td>\n",
       "    </tr>\n",
       "    <tr>\n",
       "      <th>km10_6500.fits_g45</th>\n",
       "      <td>0.469</td>\n",
       "      <td>3.48</td>\n",
       "      <td>2.88</td>\n",
       "      <td>1.95</td>\n",
       "      <td>1.12</td>\n",
       "      <td>0.465</td>\n",
       "    </tr>\n",
       "    <tr>\n",
       "      <th>km10_7250.fits_g45</th>\n",
       "      <td>0.544</td>\n",
       "      <td>3.92</td>\n",
       "      <td>2.88</td>\n",
       "      <td>1.82</td>\n",
       "      <td>1</td>\n",
       "      <td>0.41</td>\n",
       "    </tr>\n",
       "    <tr>\n",
       "      <th>m3.0Full.dat</th>\n",
       "      <td>0.046</td>\n",
       "      <td>1.29</td>\n",
       "      <td>2.87</td>\n",
       "      <td>5.71</td>\n",
       "      <td>5.56</td>\n",
       "      <td>2.84</td>\n",
       "    </tr>\n",
       "    <tr>\n",
       "      <th>quasar.dat</th>\n",
       "      <td>0.123</td>\n",
       "      <td>2.31</td>\n",
       "      <td>2.88</td>\n",
       "      <td>2.1</td>\n",
       "      <td>1.31</td>\n",
       "      <td>0.53</td>\n",
       "    </tr>\n",
       "  </tbody>\n",
       "</table>\n",
       "</div>"
      ],
      "text/plain": [
       "                                 u     g     r     i     z      y\n",
       "Ell2_template_norm.sed.dat   0.233  2.78  2.88  2.23  1.49  0.713\n",
       "Sa_template_norm.sed.dat     0.138  2.24  2.88  2.54  1.94   1.01\n",
       "Sdm_template_norm.sed0.dat   0.357  3.02  2.88  2.28  1.62  0.816\n",
       "km10_4500.fits_g45          0.0943  2.04  2.88  2.48  1.66  0.775\n",
       "km10_5250.fits_g45           0.228  2.66  2.88  2.21  1.38  0.607\n",
       "km10_6000.fits_g45           0.388  3.17  2.88  2.04  1.21  0.512\n",
       "km10_6500.fits_g45           0.469  3.48  2.88  1.95  1.12  0.465\n",
       "km10_7250.fits_g45           0.544  3.92  2.88  1.82     1   0.41\n",
       "m3.0Full.dat                 0.046  1.29  2.87  5.71  5.56   2.84\n",
       "quasar.dat                   0.123  2.31  2.88   2.1  1.31   0.53"
      ]
     },
     "metadata": {},
     "output_type": "display_data"
    }
   ],
   "source": [
    "# Or vary the readnoise (for example) -- notice biggest effect in u band\n",
    "old_readnoise = photParams.readnoise\n",
    "print(old_readnoise)\n",
    "photParams = PhotometricParameters(readnoise=old_readnoise*2)\n",
    "seeing = 1.2\n",
    "FWHMeff = SignalToNoise.FWHMgeom2FWHMeff(seeing)\n",
    "for i, s in enumerate(seds):\n",
    "    for f in filterlist:\n",
    "        snr.iloc[i][f] = SignalToNoise.calcSNR_sed(seds[s], lsst_total[f], darksky, lsst_system[f], \n",
    "                                              photParams, FWHMeff=FWHMeff, verbose=False)\n",
    "display(snr)"
   ]
  },
  {
   "cell_type": "code",
   "execution_count": null,
   "metadata": {
    "collapsed": true
   },
   "outputs": [],
   "source": []
  }
 ],
 "metadata": {
  "kernelspec": {
   "display_name": "Python 3",
   "language": "python",
   "name": "python3"
  },
  "language_info": {
   "codemirror_mode": {
    "name": "ipython",
    "version": 3
   },
   "file_extension": ".py",
   "mimetype": "text/x-python",
   "name": "python",
   "nbconvert_exporter": "python",
   "pygments_lexer": "ipython3",
   "version": "3.6.2"
  }
 },
 "nbformat": 4,
 "nbformat_minor": 1
}
